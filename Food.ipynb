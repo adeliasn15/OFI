{
 "cells": [
  {
   "cell_type": "code",
   "execution_count": null,
   "metadata": {},
   "outputs": [],
   "source": [
    "!pip install tensorflow_hub"
   ]
  },
  {
   "cell_type": "code",
   "execution_count": 5,
   "metadata": {},
   "outputs": [
    {
     "name": "stdout",
     "output_type": "stream",
     "text": [
      "Collecting tensorflow_datasets\n",
      "  Downloading tensorflow_datasets-4.5.2-py3-none-any.whl (4.2 MB)\n",
      "Requirement already satisfied: termcolor in c:\\users\\adel\\anaconda3\\lib\\site-packages (from tensorflow_datasets) (1.1.0)\n",
      "Requirement already satisfied: requests>=2.19.0 in c:\\users\\adel\\anaconda3\\lib\\site-packages (from tensorflow_datasets) (2.26.0)\n",
      "Collecting dill\n",
      "  Downloading dill-0.3.5.1-py2.py3-none-any.whl (95 kB)\n",
      "Requirement already satisfied: protobuf>=3.12.2 in c:\\users\\adel\\anaconda3\\lib\\site-packages (from tensorflow_datasets) (3.20.1)\n",
      "Collecting tensorflow-metadata\n",
      "  Downloading tensorflow_metadata-1.8.0-py3-none-any.whl (50 kB)\n",
      "Collecting promise\n",
      "  Downloading promise-2.3.tar.gz (19 kB)\n",
      "Requirement already satisfied: numpy in c:\\users\\adel\\anaconda3\\lib\\site-packages (from tensorflow_datasets) (1.20.3)\n",
      "Requirement already satisfied: six in c:\\users\\adel\\anaconda3\\lib\\site-packages (from tensorflow_datasets) (1.16.0)\n",
      "Requirement already satisfied: tqdm in c:\\users\\adel\\anaconda3\\lib\\site-packages (from tensorflow_datasets) (4.62.3)\n",
      "Requirement already satisfied: absl-py in c:\\users\\adel\\anaconda3\\lib\\site-packages (from tensorflow_datasets) (1.0.0)\n",
      "Requirement already satisfied: idna<4,>=2.5 in c:\\users\\adel\\anaconda3\\lib\\site-packages (from requests>=2.19.0->tensorflow_datasets) (3.2)\n",
      "Requirement already satisfied: certifi>=2017.4.17 in c:\\users\\adel\\anaconda3\\lib\\site-packages (from requests>=2.19.0->tensorflow_datasets) (2021.10.8)\n",
      "Requirement already satisfied: urllib3<1.27,>=1.21.1 in c:\\users\\adel\\anaconda3\\lib\\site-packages (from requests>=2.19.0->tensorflow_datasets) (1.26.7)\n",
      "Requirement already satisfied: charset-normalizer~=2.0.0 in c:\\users\\adel\\anaconda3\\lib\\site-packages (from requests>=2.19.0->tensorflow_datasets) (2.0.4)\n",
      "Collecting googleapis-common-protos<2,>=1.52.0\n",
      "  Downloading googleapis_common_protos-1.56.1-py2.py3-none-any.whl (211 kB)\n",
      "Requirement already satisfied: colorama in c:\\users\\adel\\anaconda3\\lib\\site-packages (from tqdm->tensorflow_datasets) (0.4.4)\n",
      "Building wheels for collected packages: promise\n",
      "  Building wheel for promise (setup.py): started\n",
      "  Building wheel for promise (setup.py): finished with status 'done'\n",
      "  Created wheel for promise: filename=promise-2.3-py3-none-any.whl size=21502 sha256=94af7f637b03ec1c1c9bd6a8857d1887274db892ed08cd4ab5dc7b608e8cb885\n",
      "  Stored in directory: c:\\users\\adel\\appdata\\local\\pip\\cache\\wheels\\e1\\e8\\83\\ddea66100678d139b14bc87692ece57c6a2a937956d2532608\n",
      "Successfully built promise\n",
      "Installing collected packages: googleapis-common-protos, tensorflow-metadata, promise, dill, tensorflow-datasets\n",
      "Successfully installed dill-0.3.5.1 googleapis-common-protos-1.56.1 promise-2.3 tensorflow-datasets-4.5.2 tensorflow-metadata-1.8.0\n"
     ]
    }
   ],
   "source": [
    "!pip install tensorflow_datasets"
   ]
  },
  {
   "cell_type": "code",
   "execution_count": 1,
   "metadata": {},
   "outputs": [
    {
     "name": "stdout",
     "output_type": "stream",
     "text": [
      "Collecting tflite-model-maker\n",
      "  Downloading tflite_model_maker-0.4.0-py3-none-any.whl (642 kB)\n",
      "Collecting librosa==0.8.1\n"
     ]
    },
    {
     "name": "stderr",
     "output_type": "stream",
     "text": [
      "ERROR: Cannot uninstall 'llvmlite'. It is a distutils installed project and thus we cannot accurately determine which files belong to it which would lead to only a partial uninstall.\n"
     ]
    },
    {
     "name": "stdout",
     "output_type": "stream",
     "text": [
      "  Downloading librosa-0.8.1-py3-none-any.whl (203 kB)\n",
      "Requirement already satisfied: tensorflow-hub<0.13,>=0.7.0 in c:\\users\\adel\\anaconda3\\lib\\site-packages (from tflite-model-maker) (0.12.0)\n",
      "Collecting tensorflowjs>=2.4.0\n",
      "  Downloading tensorflowjs-3.18.0-py3-none-any.whl (77 kB)\n",
      "Collecting flatbuffers==1.12\n",
      "  Downloading flatbuffers-1.12-py2.py3-none-any.whl (15 kB)\n",
      "Requirement already satisfied: PyYAML>=5.1 in c:\\users\\adel\\anaconda3\\lib\\site-packages (from tflite-model-maker) (6.0)\n",
      "Collecting tensorflow-addons>=0.11.2\n",
      "  Downloading tensorflow_addons-0.17.0-cp39-cp39-win_amd64.whl (758 kB)\n",
      "Collecting tensorflow-model-optimization>=0.5\n",
      "  Downloading tensorflow_model_optimization-0.7.2-py2.py3-none-any.whl (237 kB)\n",
      "Collecting numba==0.53\n",
      "  Downloading numba-0.53.0-cp39-cp39-win_amd64.whl (2.3 MB)\n",
      "Collecting neural-structured-learning>=1.3.1\n",
      "  Downloading neural_structured_learning-1.3.1-py2.py3-none-any.whl (120 kB)\n",
      "Requirement already satisfied: lxml>=4.6.1 in c:\\users\\adel\\anaconda3\\lib\\site-packages (from tflite-model-maker) (4.6.3)\n",
      "Requirement already satisfied: pillow>=7.0.0 in c:\\users\\adel\\anaconda3\\lib\\site-packages (from tflite-model-maker) (8.4.0)\n",
      "Requirement already satisfied: numpy>=1.17.3 in c:\\users\\adel\\anaconda3\\lib\\site-packages (from tflite-model-maker) (1.20.3)\n",
      "Collecting urllib3!=1.25.0,!=1.25.1,<1.26,>=1.21.1\n",
      "  Downloading urllib3-1.25.11-py2.py3-none-any.whl (127 kB)\n",
      "Collecting tflite-model-maker\n",
      "  Downloading tflite_model_maker-0.3.4-py3-none-any.whl (616 kB)\n",
      "Collecting tflite-support>=0.3.1\n",
      "  Downloading tflite_support-0.4.0-cp39-cp39-win_amd64.whl (439 kB)\n",
      "Requirement already satisfied: Cython>=0.29.13 in c:\\users\\adel\\anaconda3\\lib\\site-packages (from tflite-model-maker) (0.29.24)\n",
      "Collecting fire>=0.3.1\n",
      "  Downloading fire-0.4.0.tar.gz (87 kB)\n",
      "Requirement already satisfied: matplotlib<3.5.0,>=3.0.3 in c:\\users\\adel\\anaconda3\\lib\\site-packages (from tflite-model-maker) (3.4.3)\n",
      "Requirement already satisfied: absl-py>=0.10.0 in c:\\users\\adel\\anaconda3\\lib\\site-packages (from tflite-model-maker) (1.0.0)\n",
      "Requirement already satisfied: six>=1.12.0 in c:\\users\\adel\\anaconda3\\lib\\site-packages (from tflite-model-maker) (1.16.0)\n",
      "Collecting tf-models-official==2.3.0\n",
      "  Downloading tf_models_official-2.3.0-py2.py3-none-any.whl (840 kB)\n",
      "Collecting sentencepiece>=0.1.91\n",
      "  Downloading sentencepiece-0.1.96-cp39-cp39-win_amd64.whl (1.1 MB)\n",
      "Requirement already satisfied: tensorflow>=2.6.0 in c:\\users\\adel\\anaconda3\\lib\\site-packages (from tflite-model-maker) (2.8.0)\n",
      "Requirement already satisfied: tensorflow-datasets>=2.1.0 in c:\\users\\adel\\anaconda3\\lib\\site-packages (from tflite-model-maker) (4.5.2)\n",
      "Collecting soundfile>=0.10.2\n",
      "  Downloading SoundFile-0.10.3.post1-py2.py3.cp26.cp27.cp32.cp33.cp34.cp35.cp36.pp27.pp32.pp33-none-win_amd64.whl (689 kB)\n",
      "Collecting resampy>=0.2.2\n",
      "  Downloading resampy-0.2.2.tar.gz (323 kB)\n",
      "Requirement already satisfied: scikit-learn!=0.19.0,>=0.14.0 in c:\\users\\adel\\anaconda3\\lib\\site-packages (from librosa==0.8.1->tflite-model-maker) (0.24.2)\n",
      "Collecting pooch>=1.0\n",
      "  Downloading pooch-1.6.0-py3-none-any.whl (56 kB)\n",
      "Requirement already satisfied: packaging>=20.0 in c:\\users\\adel\\anaconda3\\lib\\site-packages (from librosa==0.8.1->tflite-model-maker) (21.0)\n",
      "Collecting audioread>=2.0.0\n",
      "  Downloading audioread-2.1.9.tar.gz (377 kB)\n",
      "Requirement already satisfied: decorator>=3.0.0 in c:\\users\\adel\\anaconda3\\lib\\site-packages (from librosa==0.8.1->tflite-model-maker) (5.1.0)\n",
      "Requirement already satisfied: scipy>=1.0.0 in c:\\users\\adel\\anaconda3\\lib\\site-packages (from librosa==0.8.1->tflite-model-maker) (1.7.1)\n",
      "Requirement already satisfied: joblib>=0.14 in c:\\users\\adel\\anaconda3\\lib\\site-packages (from librosa==0.8.1->tflite-model-maker) (1.1.0)\n",
      "Collecting llvmlite<0.37,>=0.36.0rc1\n",
      "  Downloading llvmlite-0.36.0-cp39-cp39-win_amd64.whl (16.0 MB)\n",
      "Requirement already satisfied: setuptools in c:\\users\\adel\\anaconda3\\lib\\site-packages (from numba==0.53->tflite-model-maker) (58.0.4)\n",
      "Requirement already satisfied: pandas>=0.22.0 in c:\\users\\adel\\anaconda3\\lib\\site-packages (from tf-models-official==2.3.0->tflite-model-maker) (1.3.4)\n",
      "Collecting google-cloud-bigquery>=0.31.0\n",
      "  Downloading google_cloud_bigquery-3.1.0-py2.py3-none-any.whl (211 kB)\n",
      "Collecting py-cpuinfo>=3.3.0\n",
      "  Downloading py-cpuinfo-8.0.0.tar.gz (99 kB)\n",
      "Collecting tf-slim>=1.1.0\n",
      "  Downloading tf_slim-1.1.0-py2.py3-none-any.whl (352 kB)\n",
      "Collecting google-api-python-client>=1.6.7\n",
      "  Downloading google_api_python_client-2.49.0-py2.py3-none-any.whl (8.5 MB)\n",
      "Collecting kaggle>=1.3.9\n",
      "  Downloading kaggle-1.5.12.tar.gz (58 kB)\n",
      "Requirement already satisfied: psutil>=5.4.3 in c:\\users\\adel\\anaconda3\\lib\\site-packages (from tf-models-official==2.3.0->tflite-model-maker) (5.8.0)\n",
      "Collecting dataclasses\n",
      "  Downloading dataclasses-0.6-py3-none-any.whl (14 kB)\n",
      "Collecting opencv-python-headless\n",
      "  Downloading opencv_python_headless-4.5.5.64-cp36-abi3-win_amd64.whl (35.3 MB)\n",
      "Collecting gin-config\n",
      "  Downloading gin_config-0.5.0-py3-none-any.whl (61 kB)\n",
      "Requirement already satisfied: termcolor in c:\\users\\adel\\anaconda3\\lib\\site-packages (from fire>=0.3.1->tflite-model-maker) (1.1.0)\n",
      "Collecting uritemplate<5,>=3.0.1\n",
      "  Downloading uritemplate-4.1.1-py2.py3-none-any.whl (10 kB)\n",
      "Requirement already satisfied: google-auth<3.0.0dev,>=1.16.0 in c:\\users\\adel\\anaconda3\\lib\\site-packages (from google-api-python-client>=1.6.7->tf-models-official==2.3.0->tflite-model-maker) (2.6.6)\n",
      "Collecting google-auth-httplib2>=0.1.0\n",
      "  Downloading google_auth_httplib2-0.1.0-py2.py3-none-any.whl (9.3 kB)\n",
      "Collecting httplib2<1dev,>=0.15.0\n",
      "  Downloading httplib2-0.20.4-py3-none-any.whl (96 kB)\n",
      "Collecting google-api-core!=2.0.*,!=2.1.*,!=2.2.*,!=2.3.0,<3.0.0dev,>=1.31.5\n",
      "  Downloading google_api_core-2.8.1-py3-none-any.whl (114 kB)\n",
      "Collecting googleapis-common-protos<2.0dev,>=1.56.2\n",
      "  Downloading googleapis_common_protos-1.56.2-py2.py3-none-any.whl (211 kB)\n",
      "Requirement already satisfied: requests<3.0.0dev,>=2.18.0 in c:\\users\\adel\\anaconda3\\lib\\site-packages (from google-api-core!=2.0.*,!=2.1.*,!=2.2.*,!=2.3.0,<3.0.0dev,>=1.31.5->google-api-python-client>=1.6.7->tf-models-official==2.3.0->tflite-model-maker) (2.26.0)\n",
      "Requirement already satisfied: protobuf<4.0.0dev,>=3.15.0 in c:\\users\\adel\\anaconda3\\lib\\site-packages (from google-api-core!=2.0.*,!=2.1.*,!=2.2.*,!=2.3.0,<3.0.0dev,>=1.31.5->google-api-python-client>=1.6.7->tf-models-official==2.3.0->tflite-model-maker) (3.20.1)\n",
      "Requirement already satisfied: rsa<5,>=3.1.4 in c:\\users\\adel\\anaconda3\\lib\\site-packages (from google-auth<3.0.0dev,>=1.16.0->google-api-python-client>=1.6.7->tf-models-official==2.3.0->tflite-model-maker) (4.8)\n",
      "Requirement already satisfied: cachetools<6.0,>=2.0.0 in c:\\users\\adel\\anaconda3\\lib\\site-packages (from google-auth<3.0.0dev,>=1.16.0->google-api-python-client>=1.6.7->tf-models-official==2.3.0->tflite-model-maker) (5.0.0)\n",
      "Requirement already satisfied: pyasn1-modules>=0.2.1 in c:\\users\\adel\\anaconda3\\lib\\site-packages (from google-auth<3.0.0dev,>=1.16.0->google-api-python-client>=1.6.7->tf-models-official==2.3.0->tflite-model-maker) (0.2.8)\n",
      "Collecting google-resumable-media<3.0dev,>=0.6.0\n",
      "  Downloading google_resumable_media-2.3.3-py2.py3-none-any.whl (76 kB)\n",
      "Requirement already satisfied: grpcio<2.0dev,>=1.38.1 in c:\\users\\adel\\anaconda3\\lib\\site-packages (from google-cloud-bigquery>=0.31.0->tf-models-official==2.3.0->tflite-model-maker) (1.46.1)\n",
      "Requirement already satisfied: python-dateutil<3.0dev,>=2.7.2 in c:\\users\\adel\\anaconda3\\lib\\site-packages (from google-cloud-bigquery>=0.31.0->tf-models-official==2.3.0->tflite-model-maker) (2.8.2)\n",
      "Collecting google-cloud-core<3.0.0dev,>=1.4.1\n",
      "  Downloading google_cloud_core-2.3.0-py2.py3-none-any.whl (29 kB)\n",
      "Collecting proto-plus>=1.15.0\n",
      "  Downloading proto_plus-1.20.5-py3-none-any.whl (46 kB)\n",
      "Collecting google-cloud-bigquery-storage<3.0.0dev,>=2.0.0\n",
      "  Downloading google_cloud_bigquery_storage-2.13.1-py2.py3-none-any.whl (180 kB)\n",
      "Collecting pyarrow<9.0dev,>=3.0.0\n",
      "  Downloading pyarrow-8.0.0-cp39-cp39-win_amd64.whl (17.9 MB)\n",
      "Collecting grpcio-status<2.0dev,>=1.33.2\n",
      "  Downloading grpcio_status-1.46.3-py3-none-any.whl (10.0 kB)\n",
      "Collecting google-crc32c<2.0dev,>=1.0\n",
      "  Downloading google_crc32c-1.3.0-cp39-cp39-win_amd64.whl (27 kB)\n",
      "Collecting grpcio<2.0dev,>=1.38.1\n",
      "  Downloading grpcio-1.46.3-cp39-cp39-win_amd64.whl (3.5 MB)\n",
      "Requirement already satisfied: pyparsing!=3.0.0,!=3.0.1,!=3.0.2,!=3.0.3,<4,>=2.4.2 in c:\\users\\adel\\anaconda3\\lib\\site-packages (from httplib2<1dev,>=0.15.0->google-api-python-client>=1.6.7->tf-models-official==2.3.0->tflite-model-maker) (3.0.4)\n",
      "Requirement already satisfied: certifi in c:\\users\\adel\\anaconda3\\lib\\site-packages (from kaggle>=1.3.9->tf-models-official==2.3.0->tflite-model-maker) (2021.10.8)\n",
      "Requirement already satisfied: tqdm in c:\\users\\adel\\anaconda3\\lib\\site-packages (from kaggle>=1.3.9->tf-models-official==2.3.0->tflite-model-maker) (4.62.3)\n",
      "Requirement already satisfied: python-slugify in c:\\users\\adel\\anaconda3\\lib\\site-packages (from kaggle>=1.3.9->tf-models-official==2.3.0->tflite-model-maker) (5.0.2)\n",
      "Requirement already satisfied: kiwisolver>=1.0.1 in c:\\users\\adel\\anaconda3\\lib\\site-packages (from matplotlib<3.5.0,>=3.0.3->tflite-model-maker) (1.3.1)\n",
      "Requirement already satisfied: cycler>=0.10 in c:\\users\\adel\\anaconda3\\lib\\site-packages (from matplotlib<3.5.0,>=3.0.3->tflite-model-maker) (0.10.0)\n",
      "Requirement already satisfied: attrs in c:\\users\\adel\\anaconda3\\lib\\site-packages (from neural-structured-learning>=1.3.1->tflite-model-maker) (21.2.0)\n",
      "Requirement already satisfied: pytz>=2017.3 in c:\\users\\adel\\anaconda3\\lib\\site-packages (from pandas>=0.22.0->tf-models-official==2.3.0->tflite-model-maker) (2021.3)\n",
      "Requirement already satisfied: appdirs>=1.3.0 in c:\\users\\adel\\anaconda3\\lib\\site-packages (from pooch>=1.0->librosa==0.8.1->tflite-model-maker) (1.4.4)\n",
      "Requirement already satisfied: pyasn1<0.5.0,>=0.4.6 in c:\\users\\adel\\anaconda3\\lib\\site-packages (from pyasn1-modules>=0.2.1->google-auth<3.0.0dev,>=1.16.0->google-api-python-client>=1.6.7->tf-models-official==2.3.0->tflite-model-maker) (0.4.8)\n",
      "Requirement already satisfied: idna<4,>=2.5 in c:\\users\\adel\\anaconda3\\lib\\site-packages (from requests<3.0.0dev,>=2.18.0->google-api-core!=2.0.*,!=2.1.*,!=2.2.*,!=2.3.0,<3.0.0dev,>=1.31.5->google-api-python-client>=1.6.7->tf-models-official==2.3.0->tflite-model-maker) (3.2)\n",
      "Requirement already satisfied: charset-normalizer~=2.0.0 in c:\\users\\adel\\anaconda3\\lib\\site-packages (from requests<3.0.0dev,>=2.18.0->google-api-core!=2.0.*,!=2.1.*,!=2.2.*,!=2.3.0,<3.0.0dev,>=1.31.5->google-api-python-client>=1.6.7->tf-models-official==2.3.0->tflite-model-maker) (2.0.4)\n",
      "Requirement already satisfied: threadpoolctl>=2.0.0 in c:\\users\\adel\\anaconda3\\lib\\site-packages (from scikit-learn!=0.19.0,>=0.14.0->librosa==0.8.1->tflite-model-maker) (2.2.0)\n",
      "Requirement already satisfied: cffi>=1.0 in c:\\users\\adel\\anaconda3\\lib\\site-packages (from soundfile>=0.10.2->librosa==0.8.1->tflite-model-maker) (1.14.6)\n",
      "Requirement already satisfied: pycparser in c:\\users\\adel\\anaconda3\\lib\\site-packages (from cffi>=1.0->soundfile>=0.10.2->librosa==0.8.1->tflite-model-maker) (2.20)\n",
      "Requirement already satisfied: libclang>=9.0.1 in c:\\users\\adel\\anaconda3\\lib\\site-packages (from tensorflow>=2.6.0->tflite-model-maker) (14.0.1)\n",
      "Requirement already satisfied: tensorboard<2.9,>=2.8 in c:\\users\\adel\\anaconda3\\lib\\site-packages (from tensorflow>=2.6.0->tflite-model-maker) (2.8.0)\n",
      "Requirement already satisfied: keras<2.9,>=2.8.0rc0 in c:\\users\\adel\\anaconda3\\lib\\site-packages (from tensorflow>=2.6.0->tflite-model-maker) (2.8.0)\n",
      "Requirement already satisfied: keras-preprocessing>=1.1.1 in c:\\users\\adel\\anaconda3\\lib\\site-packages (from tensorflow>=2.6.0->tflite-model-maker) (1.1.2)\n",
      "Requirement already satisfied: typing-extensions>=3.6.6 in c:\\users\\adel\\anaconda3\\lib\\site-packages (from tensorflow>=2.6.0->tflite-model-maker) (3.10.0.2)\n",
      "Requirement already satisfied: tensorflow-io-gcs-filesystem>=0.23.1 in c:\\users\\adel\\anaconda3\\lib\\site-packages (from tensorflow>=2.6.0->tflite-model-maker) (0.25.0)\n",
      "Requirement already satisfied: wrapt>=1.11.0 in c:\\users\\adel\\anaconda3\\lib\\site-packages (from tensorflow>=2.6.0->tflite-model-maker) (1.12.1)\n",
      "Requirement already satisfied: tf-estimator-nightly==2.8.0.dev2021122109 in c:\\users\\adel\\anaconda3\\lib\\site-packages (from tensorflow>=2.6.0->tflite-model-maker) (2.8.0.dev2021122109)\n",
      "Requirement already satisfied: google-pasta>=0.1.1 in c:\\users\\adel\\anaconda3\\lib\\site-packages (from tensorflow>=2.6.0->tflite-model-maker) (0.2.0)\n",
      "Requirement already satisfied: gast>=0.2.1 in c:\\users\\adel\\anaconda3\\lib\\site-packages (from tensorflow>=2.6.0->tflite-model-maker) (0.5.3)\n",
      "Requirement already satisfied: opt-einsum>=2.3.2 in c:\\users\\adel\\anaconda3\\lib\\site-packages (from tensorflow>=2.6.0->tflite-model-maker) (3.3.0)\n",
      "Requirement already satisfied: astunparse>=1.6.0 in c:\\users\\adel\\anaconda3\\lib\\site-packages (from tensorflow>=2.6.0->tflite-model-maker) (1.6.3)\n",
      "Requirement already satisfied: h5py>=2.9.0 in c:\\users\\adel\\anaconda3\\lib\\site-packages (from tensorflow>=2.6.0->tflite-model-maker) (3.2.1)\n",
      "Requirement already satisfied: wheel<1.0,>=0.23.0 in c:\\users\\adel\\anaconda3\\lib\\site-packages (from astunparse>=1.6.0->tensorflow>=2.6.0->tflite-model-maker) (0.37.0)\n",
      "Requirement already satisfied: werkzeug>=0.11.15 in c:\\users\\adel\\anaconda3\\lib\\site-packages (from tensorboard<2.9,>=2.8->tensorflow>=2.6.0->tflite-model-maker) (2.0.2)\n",
      "Requirement already satisfied: markdown>=2.6.8 in c:\\users\\adel\\anaconda3\\lib\\site-packages (from tensorboard<2.9,>=2.8->tensorflow>=2.6.0->tflite-model-maker) (3.3.7)\n",
      "Requirement already satisfied: tensorboard-plugin-wit>=1.6.0 in c:\\users\\adel\\anaconda3\\lib\\site-packages (from tensorboard<2.9,>=2.8->tensorflow>=2.6.0->tflite-model-maker) (1.8.1)\n",
      "Requirement already satisfied: tensorboard-data-server<0.7.0,>=0.6.0 in c:\\users\\adel\\anaconda3\\lib\\site-packages (from tensorboard<2.9,>=2.8->tensorflow>=2.6.0->tflite-model-maker) (0.6.1)\n",
      "Requirement already satisfied: google-auth-oauthlib<0.5,>=0.4.1 in c:\\users\\adel\\anaconda3\\lib\\site-packages (from tensorboard<2.9,>=2.8->tensorflow>=2.6.0->tflite-model-maker) (0.4.6)\n",
      "Requirement already satisfied: requests-oauthlib>=0.7.0 in c:\\users\\adel\\anaconda3\\lib\\site-packages (from google-auth-oauthlib<0.5,>=0.4.1->tensorboard<2.9,>=2.8->tensorflow>=2.6.0->tflite-model-maker) (1.3.1)\n",
      "Requirement already satisfied: importlib-metadata>=4.4 in c:\\users\\adel\\anaconda3\\lib\\site-packages (from markdown>=2.6.8->tensorboard<2.9,>=2.8->tensorflow>=2.6.0->tflite-model-maker) (4.8.1)\n",
      "Requirement already satisfied: zipp>=0.5 in c:\\users\\adel\\anaconda3\\lib\\site-packages (from importlib-metadata>=4.4->markdown>=2.6.8->tensorboard<2.9,>=2.8->tensorflow>=2.6.0->tflite-model-maker) (3.6.0)\n",
      "Requirement already satisfied: oauthlib>=3.0.0 in c:\\users\\adel\\anaconda3\\lib\\site-packages (from requests-oauthlib>=0.7.0->google-auth-oauthlib<0.5,>=0.4.1->tensorboard<2.9,>=2.8->tensorflow>=2.6.0->tflite-model-maker) (3.2.0)\n",
      "Collecting typeguard>=2.7\n",
      "  Downloading typeguard-2.13.3-py3-none-any.whl (17 kB)\n",
      "Requirement already satisfied: promise in c:\\users\\adel\\anaconda3\\lib\\site-packages (from tensorflow-datasets>=2.1.0->tflite-model-maker) (2.3)\n",
      "Requirement already satisfied: tensorflow-metadata in c:\\users\\adel\\anaconda3\\lib\\site-packages (from tensorflow-datasets>=2.1.0->tflite-model-maker) (1.8.0)\n",
      "Requirement already satisfied: dill in c:\\users\\adel\\anaconda3\\lib\\site-packages (from tensorflow-datasets>=2.1.0->tflite-model-maker) (0.3.5.1)\n",
      "Collecting dm-tree~=0.1.1\n",
      "  Downloading dm_tree-0.1.7-cp39-cp39-win_amd64.whl (90 kB)\n",
      "Collecting packaging>=20.0\n",
      "  Downloading packaging-20.9-py2.py3-none-any.whl (40 kB)\n",
      "Collecting sounddevice>=0.4.4\n",
      "  Downloading sounddevice-0.4.4-py3-none-win_amd64.whl (195 kB)\n",
      "Collecting pybind11>=2.6.0\n",
      "  Downloading pybind11-2.9.2-py2.py3-none-any.whl (213 kB)\n",
      "Requirement already satisfied: text-unidecode>=1.3 in c:\\users\\adel\\anaconda3\\lib\\site-packages (from python-slugify->kaggle>=1.3.9->tf-models-official==2.3.0->tflite-model-maker) (1.3)\n",
      "Requirement already satisfied: colorama in c:\\users\\adel\\anaconda3\\lib\\site-packages (from tqdm->kaggle>=1.3.9->tf-models-official==2.3.0->tflite-model-maker) (0.4.4)\n",
      "Building wheels for collected packages: audioread, fire, kaggle, py-cpuinfo, resampy\n",
      "  Building wheel for audioread (setup.py): started\n",
      "  Building wheel for audioread (setup.py): finished with status 'done'\n",
      "  Created wheel for audioread: filename=audioread-2.1.9-py3-none-any.whl size=23154 sha256=2e2e15dd4069dcd457f745cbe1ffdf00a732d6c949c61a97887e0f5210969493\n",
      "  Stored in directory: c:\\users\\adel\\appdata\\local\\pip\\cache\\wheels\\a2\\a3\\bd\\ec1568ce7515115a11ab686d509ad302124c782af065de47ee\n",
      "  Building wheel for fire (setup.py): started\n",
      "  Building wheel for fire (setup.py): finished with status 'done'\n",
      "  Created wheel for fire: filename=fire-0.4.0-py2.py3-none-any.whl size=115943 sha256=275d197f3170651263794b31e3a3fcc9a8371643caa09bde578d89e7a94c3a4d\n",
      "  Stored in directory: c:\\users\\adel\\appdata\\local\\pip\\cache\\wheels\\2a\\93\\86\\8cd17bc6c40fb605c3ac549d0b860ef7e84ee5f67bf01a3287\n",
      "  Building wheel for kaggle (setup.py): started\n",
      "  Building wheel for kaggle (setup.py): finished with status 'done'\n",
      "  Created wheel for kaggle: filename=kaggle-1.5.12-py3-none-any.whl size=73051 sha256=58114adb87de71e9ac603e8f7fc2265d9fa815554e464ebbf2cfdfe70874b5e5\n",
      "  Stored in directory: c:\\users\\adel\\appdata\\local\\pip\\cache\\wheels\\ac\\b2\\c3\\fa4706d469b5879105991d1c8be9a3c2ef329ba9fe2ce5085e\n",
      "  Building wheel for py-cpuinfo (setup.py): started\n",
      "  Building wheel for py-cpuinfo (setup.py): finished with status 'done'\n",
      "  Created wheel for py-cpuinfo: filename=py_cpuinfo-8.0.0-py3-none-any.whl size=22258 sha256=de4560912f54cb680ebec3b732cd42ed489baecbcbdf5e0916df67aeb0013dee\n",
      "  Stored in directory: c:\\users\\adel\\appdata\\local\\pip\\cache\\wheels\\a9\\33\\c2\\bcf6550ff9c95f699d7b2f261c8520b42b7f7c33b6e6920e29\n",
      "  Building wheel for resampy (setup.py): started\n",
      "  Building wheel for resampy (setup.py): finished with status 'done'\n",
      "  Created wheel for resampy: filename=resampy-0.2.2-py3-none-any.whl size=320731 sha256=5bc494aed99d50deea1c99572dce87c077cab113ad786317958d4f1c2cf9dcc7\n",
      "  Stored in directory: c:\\users\\adel\\appdata\\local\\pip\\cache\\wheels\\86\\2c\\7d\\46a32a246b0e5939cea2c5ec1492164073e0c5d16d666ae2cd\n",
      "Successfully built audioread fire kaggle py-cpuinfo resampy\n",
      "Installing collected packages: urllib3, grpcio, googleapis-common-protos, grpcio-status, google-api-core, proto-plus, llvmlite, httplib2, google-crc32c, uritemplate, typeguard, pyarrow, packaging, numba, google-resumable-media, google-cloud-core, google-cloud-bigquery-storage, google-auth-httplib2, flatbuffers, dm-tree, tf-slim, tensorflow-model-optimization, tensorflow-addons, soundfile, sounddevice, sentencepiece, resampy, pybind11, py-cpuinfo, pooch, opencv-python-headless, kaggle, google-cloud-bigquery, google-api-python-client, gin-config, dataclasses, audioread, tflite-support, tf-models-official, tensorflowjs, neural-structured-learning, librosa, fire, tflite-model-maker\n",
      "  Attempting uninstall: urllib3\n",
      "    Found existing installation: urllib3 1.26.7\n",
      "    Uninstalling urllib3-1.26.7:\n",
      "      Successfully uninstalled urllib3-1.26.7\n",
      "  Attempting uninstall: grpcio\n",
      "    Found existing installation: grpcio 1.46.1\n",
      "    Uninstalling grpcio-1.46.1:\n",
      "      Successfully uninstalled grpcio-1.46.1\n",
      "  Attempting uninstall: googleapis-common-protos\n",
      "    Found existing installation: googleapis-common-protos 1.56.1\n",
      "    Uninstalling googleapis-common-protos-1.56.1:\n",
      "      Successfully uninstalled googleapis-common-protos-1.56.1\n",
      "  Attempting uninstall: llvmlite\n",
      "    Found existing installation: llvmlite 0.37.0\n"
     ]
    }
   ],
   "source": [
    "!pip install tflite-model-maker"
   ]
  },
  {
   "cell_type": "code",
   "execution_count": 1,
   "metadata": {
    "id": "QKKXFBRWyXy5"
   },
   "outputs": [],
   "source": [
    "import os\n",
    "import tensorflow as tf\n",
    "from tensorflow import keras"
   ]
  },
  {
   "cell_type": "code",
   "execution_count": 3,
   "metadata": {
    "id": "c1FbixanypiH"
   },
   "outputs": [],
   "source": [
    "import zipfile\n",
    "\n",
    "local_zip = \"E:\\project plan\\indonesian food.zip\"\n",
    "\n",
    "zip_ref = zipfile.ZipFile(local_zip, 'r')\n",
    "\n",
    "zip_ref.extractall('./data')\n",
    "zip_ref.close()"
   ]
  },
  {
   "cell_type": "code",
   "execution_count": 2,
   "metadata": {
    "id": "l_jTeC7Tzxjg"
   },
   "outputs": [],
   "source": [
    "train_dir = os.path.join('./data/indonesian food', 'train')\n",
    "validation_dir = os.path.join('./data/indonesian food', 'validation')\n",
    "test_dir = os.path.join('./data/indonesian food', 'test')"
   ]
  },
  {
   "cell_type": "code",
   "execution_count": 21,
   "metadata": {
    "colab": {
     "base_uri": "https://localhost:8080/"
    },
    "id": "8pgGBTro0pIg",
    "outputId": "08a686c8-7cf8-40d2-b203-c022dc054300"
   },
   "outputs": [
    {
     "name": "stdout",
     "output_type": "stream",
     "text": [
      "Found 1759 images belonging to 11 classes.\n",
      "Found 220 images belonging to 11 classes.\n"
     ]
    }
   ],
   "source": [
    "from tensorflow.keras.preprocessing.image import ImageDataGenerator\n",
    "\n",
    "train_datagen = ImageDataGenerator(rescale = 1./255\n",
    "                                   \n",
    "                                   )\n",
    "\n",
    "test_datagen  = ImageDataGenerator(rescale = 1.0/255\n",
    "                                   )\n",
    "\n",
    "train_generator = train_datagen.flow_from_directory(train_dir,\n",
    "                                                    batch_size=16,\n",
    "                                                    class_mode='categorical',\n",
    "                                                    target_size=(150, 150))     \n",
    "\n",
    "validation_generator =  test_datagen.flow_from_directory(validation_dir,\n",
    "                                                         batch_size=16,\n",
    "                                                         class_mode  = 'categorical',\n",
    "                                                         target_size=(150, 150))"
   ]
  },
  {
   "cell_type": "code",
   "execution_count": 27,
   "metadata": {
    "colab": {
     "base_uri": "https://localhost:8080/"
    },
    "id": "l202O5lS7EgX",
    "outputId": "f9b5d07c-c271-49b4-9363-860db2a5ce3b"
   },
   "outputs": [
    {
     "name": "stdout",
     "output_type": "stream",
     "text": [
      "Model: \"sequential_5\"\n",
      "_________________________________________________________________\n",
      " Layer (type)                Output Shape              Param #   \n",
      "=================================================================\n",
      " conv2d_15 (Conv2D)          (None, 148, 148, 32)      896       \n",
      "                                                                 \n",
      " max_pooling2d_15 (MaxPoolin  (None, 74, 74, 32)       0         \n",
      " g2D)                                                            \n",
      "                                                                 \n",
      " dropout_20 (Dropout)        (None, 74, 74, 32)        0         \n",
      "                                                                 \n",
      " conv2d_16 (Conv2D)          (None, 72, 72, 64)        18496     \n",
      "                                                                 \n",
      " max_pooling2d_16 (MaxPoolin  (None, 36, 36, 64)       0         \n",
      " g2D)                                                            \n",
      "                                                                 \n",
      " dropout_21 (Dropout)        (None, 36, 36, 64)        0         \n",
      "                                                                 \n",
      " conv2d_17 (Conv2D)          (None, 34, 34, 128)       73856     \n",
      "                                                                 \n",
      " max_pooling2d_17 (MaxPoolin  (None, 17, 17, 128)      0         \n",
      " g2D)                                                            \n",
      "                                                                 \n",
      " dropout_22 (Dropout)        (None, 17, 17, 128)       0         \n",
      "                                                                 \n",
      " flatten_5 (Flatten)         (None, 36992)             0         \n",
      "                                                                 \n",
      " dense_10 (Dense)            (None, 256)               9470208   \n",
      "                                                                 \n",
      " dropout_23 (Dropout)        (None, 256)               0         \n",
      "                                                                 \n",
      " dense_11 (Dense)            (None, 11)                2827      \n",
      "                                                                 \n",
      "=================================================================\n",
      "Total params: 9,566,283\n",
      "Trainable params: 9,566,283\n",
      "Non-trainable params: 0\n",
      "_________________________________________________________________\n"
     ]
    }
   ],
   "source": [
    "model = tf.keras.models.Sequential([\n",
    "    tf.keras.layers.Conv2D(32, (3,3),activation='relu', input_shape=(150, 150, 3)),\n",
    "    tf.keras.layers.MaxPooling2D(2,2),\n",
    "    tf.keras.layers.Dropout(0.2),\n",
    "    tf.keras.layers.Conv2D(64, (3,3), activation='relu'),\n",
    "    tf.keras.layers.MaxPooling2D(2,2),\n",
    "    tf.keras.layers.Dropout(0.2),\n",
    "    tf.keras.layers.Conv2D(128, (3,3),activation='relu'),\n",
    "    tf.keras.layers.MaxPooling2D(2,2),\n",
    "    tf.keras.layers.Dropout(0.2),\n",
    "    tf.keras.layers.Flatten(),\n",
    "    tf.keras.layers.Dense(256, activation='relu'),\n",
    "    tf.keras.layers.Dropout(0.5),\n",
    "    tf.keras.layers.Dense(11, activation='softmax')\n",
    "])\n",
    "\n",
    "model.summary()\n",
    "\n",
    "model.compile(tf.keras.optimizers.Adam(learning_rate=0.0001),\n",
    "              loss='categorical_crossentropy',\n",
    "              metrics = ['accuracy'])"
   ]
  },
  {
   "cell_type": "code",
   "execution_count": 24,
   "metadata": {},
   "outputs": [],
   "source": [
    "data_augmentation = tf.keras.Sequential([\n",
    "  tf.keras.layers.RandomFlip(\"horizontal_and_vertical\"),\n",
    "  tf.keras.layers.RandomRotation(0.2),\n",
    "])"
   ]
  },
  {
   "cell_type": "code",
   "execution_count": 30,
   "metadata": {},
   "outputs": [],
   "source": [
    "mobilenet_v2 = \"https://tfhub.dev/google/tf2-preview/mobilenet_v2/feature_vector/4\"\n",
    "inception_v3 = \"https://tfhub.dev/google/tf2-preview/inception_v3/feature_vector/4\"\n",
    "\n",
    "feature_extractor_model = inception_v3"
   ]
  },
  {
   "cell_type": "code",
   "execution_count": 31,
   "metadata": {},
   "outputs": [],
   "source": [
    "import tensorflow_hub as hub\n",
    "\n",
    "feature_extractor_layer = hub.KerasLayer(\n",
    "    feature_extractor_model,\n",
    "    input_shape=(224, 224, 3),\n",
    "    trainable=False)"
   ]
  },
  {
   "cell_type": "code",
   "execution_count": 32,
   "metadata": {},
   "outputs": [
    {
     "name": "stdout",
     "output_type": "stream",
     "text": [
      "Model: \"sequential_4\"\n",
      "_________________________________________________________________\n",
      " Layer (type)                Output Shape              Param #   \n",
      "=================================================================\n",
      " keras_layer_4 (KerasLayer)  (None, 2048)              21802784  \n",
      "                                                                 \n",
      " dense_5 (Dense)             (None, 11)                22539     \n",
      "                                                                 \n",
      "=================================================================\n",
      "Total params: 21,825,323\n",
      "Trainable params: 22,539\n",
      "Non-trainable params: 21,802,784\n",
      "_________________________________________________________________\n"
     ]
    }
   ],
   "source": [
    "model = tf.keras.Sequential([\n",
    "  feature_extractor_layer,\n",
    "  tf.keras.layers.Dense(11)\n",
    "])\n",
    "\n",
    "model.summary()"
   ]
  },
  {
   "cell_type": "code",
   "execution_count": 36,
   "metadata": {},
   "outputs": [],
   "source": [
    "model.compile(tf.keras.optimizers.Adam(learning_rate=0.0001),\n",
    "              loss='categorical_crossentropy',\n",
    "              metrics = ['accuracy'])"
   ]
  },
  {
   "cell_type": "code",
   "execution_count": 28,
   "metadata": {
    "colab": {
     "base_uri": "https://localhost:8080/"
    },
    "id": "ewdm0URL7LR7",
    "outputId": "1ab54e4a-481f-4938-962d-69e89fed2576",
    "scrolled": true
   },
   "outputs": [
    {
     "name": "stdout",
     "output_type": "stream",
     "text": [
      "Epoch 1/100\n",
      "110/110 [==============================] - 59s 527ms/step - loss: 2.4260 - accuracy: 0.1001 - val_loss: 2.3672 - val_accuracy: 0.2091\n",
      "Epoch 2/100\n",
      "110/110 [==============================] - 56s 507ms/step - loss: 2.2661 - accuracy: 0.1740 - val_loss: 2.2129 - val_accuracy: 0.3364\n",
      "Epoch 3/100\n",
      "110/110 [==============================] - 56s 508ms/step - loss: 2.0416 - accuracy: 0.2877 - val_loss: 1.9962 - val_accuracy: 0.3818\n",
      "Epoch 4/100\n",
      "110/110 [==============================] - 56s 505ms/step - loss: 1.9046 - accuracy: 0.3371 - val_loss: 1.9042 - val_accuracy: 0.3909\n",
      "Epoch 5/100\n",
      "110/110 [==============================] - 56s 509ms/step - loss: 1.8016 - accuracy: 0.3854 - val_loss: 1.8059 - val_accuracy: 0.4091\n",
      "Epoch 6/100\n",
      "110/110 [==============================] - 56s 511ms/step - loss: 1.6720 - accuracy: 0.4213 - val_loss: 1.7113 - val_accuracy: 0.4591\n",
      "Epoch 7/100\n",
      "110/110 [==============================] - 56s 506ms/step - loss: 1.5117 - accuracy: 0.4952 - val_loss: 1.6322 - val_accuracy: 0.4727\n",
      "Epoch 8/100\n",
      "110/110 [==============================] - 56s 509ms/step - loss: 1.4104 - accuracy: 0.5094 - val_loss: 1.5293 - val_accuracy: 0.5045\n",
      "Epoch 9/100\n",
      "110/110 [==============================] - 56s 510ms/step - loss: 1.2894 - accuracy: 0.5742 - val_loss: 1.4929 - val_accuracy: 0.5227\n",
      "Epoch 10/100\n",
      "110/110 [==============================] - 56s 511ms/step - loss: 1.2027 - accuracy: 0.5986 - val_loss: 1.4412 - val_accuracy: 0.5364\n",
      "Epoch 11/100\n",
      "110/110 [==============================] - 57s 514ms/step - loss: 1.0802 - accuracy: 0.6504 - val_loss: 1.3971 - val_accuracy: 0.5455\n",
      "Epoch 12/100\n",
      "110/110 [==============================] - 56s 508ms/step - loss: 1.0138 - accuracy: 0.6771 - val_loss: 1.4176 - val_accuracy: 0.5364\n",
      "Epoch 13/100\n",
      "110/110 [==============================] - 56s 511ms/step - loss: 0.9323 - accuracy: 0.6964 - val_loss: 1.3231 - val_accuracy: 0.5909\n",
      "Epoch 14/100\n",
      "110/110 [==============================] - 56s 510ms/step - loss: 0.8074 - accuracy: 0.7374 - val_loss: 1.3055 - val_accuracy: 0.6045\n",
      "Epoch 15/100\n",
      "110/110 [==============================] - 57s 518ms/step - loss: 0.7471 - accuracy: 0.7595 - val_loss: 1.2784 - val_accuracy: 0.6091\n",
      "Epoch 16/100\n",
      "110/110 [==============================] - 56s 512ms/step - loss: 0.6646 - accuracy: 0.7885 - val_loss: 1.2838 - val_accuracy: 0.5909\n",
      "Epoch 17/100\n",
      "110/110 [==============================] - 56s 510ms/step - loss: 0.5772 - accuracy: 0.8198 - val_loss: 1.2550 - val_accuracy: 0.5909\n",
      "Epoch 18/100\n",
      "110/110 [==============================] - 56s 512ms/step - loss: 0.5294 - accuracy: 0.8363 - val_loss: 1.3468 - val_accuracy: 0.6045\n",
      "Epoch 19/100\n",
      "110/110 [==============================] - 57s 514ms/step - loss: 0.4731 - accuracy: 0.8533 - val_loss: 1.3328 - val_accuracy: 0.5636\n",
      "Epoch 20/100\n",
      "110/110 [==============================] - 56s 512ms/step - loss: 0.4285 - accuracy: 0.8658 - val_loss: 1.3538 - val_accuracy: 0.6045\n",
      "Epoch 20: early stopping\n"
     ]
    }
   ],
   "source": [
    "from keras.callbacks import EarlyStopping\n",
    "early = EarlyStopping(monitor='val_loss', min_delta=0, patience=3, verbose=1, mode='auto')\n",
    "\n",
    "history = model.fit(train_generator,\n",
    "                    validation_data=validation_generator,\n",
    "                    epochs=100,\n",
    "                    verbose=1,\n",
    "                    callbacks=early)"
   ]
  },
  {
   "cell_type": "code",
   "execution_count": 29,
   "metadata": {
    "colab": {
     "base_uri": "https://localhost:8080/",
     "height": 563
    },
    "id": "ovIfxTjuPVeI",
    "outputId": "731199d9-1204-41e8-f833-fcfc1ab95b51",
    "scrolled": true
   },
   "outputs": [
    {
     "data": {
      "text/plain": [
       "Text(0.5, 1.0, 'Training and validation loss')"
      ]
     },
     "execution_count": 29,
     "metadata": {},
     "output_type": "execute_result"
    },
    {
     "data": {
      "image/png": "[encoded data removed]",
      "text/plain": [
       "<Figure size 432x288 with 1 Axes>"
      ]
     },
     "metadata": {
      "needs_background": "light"
     },
     "output_type": "display_data"
    },
    {
     "data": {
      "image/png": "[encoded data removed]",
      "text/plain": [
       "<Figure size 432x288 with 1 Axes>"
      ]
     },
     "metadata": {
      "needs_background": "light"
     },
     "output_type": "display_data"
    }
   ],
   "source": [
    "%matplotlib inline\n",
    "import matplotlib.pyplot as plt\n",
    "\n",
    "#-----------------------------------------------------------\n",
    "# Retrieve a list of list results on training and test data\n",
    "# sets for each training epoch\n",
    "#-----------------------------------------------------------\n",
    "acc      = history.history[     'accuracy' ]\n",
    "val_acc  = history.history[ 'val_accuracy' ]\n",
    "loss     = history.history[    'loss' ]\n",
    "val_loss = history.history['val_loss' ]\n",
    "\n",
    "epochs   = range(len(acc)) # Get number of epochs\n",
    "\n",
    "#------------------------------------------------\n",
    "# Plot training and validation accuracy per epoch\n",
    "#------------------------------------------------\n",
    "plt.plot  ( epochs,     acc, label='Training')\n",
    "plt.plot  ( epochs, val_acc, label='Validation')\n",
    "plt.title ('Training and validation accuracy')\n",
    "plt.legend()\n",
    "plt.figure()\n",
    "\n",
    "#------------------------------------------------\n",
    "# Plot training and validation loss per epoch\n",
    "#------------------------------------------------\n",
    "plt.plot  ( epochs,     loss, label='Training')\n",
    "plt.plot  ( epochs, val_loss, label='Validation')\n",
    "plt.legend()\n",
    "plt.title ('Training and validation loss')"
   ]
  },
  {
   "cell_type": "code",
   "execution_count": 48,
   "metadata": {},
   "outputs": [
    {
     "name": "stdout",
     "output_type": "stream",
     "text": [
      "INFO:tensorflow:Assets written to: saved_model\\assets\n"
     ]
    }
   ],
   "source": [
    "saved_model = \"saved_model\"\n",
    "tf.saved_model.save(model, saved_model)"
   ]
  },
  {
   "cell_type": "code",
   "execution_count": 54,
   "metadata": {},
   "outputs": [
    {
     "name": "stderr",
     "output_type": "stream",
     "text": [
      "WARNING:absl:Buffer deduplication procedure will be skipped when flatbuffer library is not properly loaded\n"
     ]
    },
    {
     "ename": "ValueError",
     "evalue": "invalid mode: 'ws'",
     "output_type": "error",
     "traceback": [
      "\u001b[1;31m---------------------------------------------------------------------------\u001b[0m",
      "\u001b[1;31mValueError\u001b[0m                                Traceback (most recent call last)",
      "\u001b[1;32m~\\AppData\\Local\\Temp/ipykernel_17564/2579590989.py\u001b[0m in \u001b[0;36m<module>\u001b[1;34m\u001b[0m\n\u001b[0;32m      2\u001b[0m \u001b[0mtflite_model\u001b[0m \u001b[1;33m=\u001b[0m \u001b[0mconverter\u001b[0m\u001b[1;33m.\u001b[0m\u001b[0mconvert\u001b[0m\u001b[1;33m(\u001b[0m\u001b[1;33m)\u001b[0m\u001b[1;33m\u001b[0m\u001b[1;33m\u001b[0m\u001b[0m\n\u001b[0;32m      3\u001b[0m \u001b[1;33m\u001b[0m\u001b[0m\n\u001b[1;32m----> 4\u001b[1;33m \u001b[1;32mwith\u001b[0m \u001b[0mopen\u001b[0m\u001b[1;33m(\u001b[0m\u001b[1;34m'model.tflite'\u001b[0m\u001b[1;33m,\u001b[0m \u001b[1;34m'ws'\u001b[0m\u001b[1;33m)\u001b[0m \u001b[1;32mas\u001b[0m \u001b[0mf\u001b[0m\u001b[1;33m:\u001b[0m\u001b[1;33m\u001b[0m\u001b[1;33m\u001b[0m\u001b[0m\n\u001b[0m\u001b[0;32m      5\u001b[0m     \u001b[0mf\u001b[0m\u001b[1;33m.\u001b[0m\u001b[0mwrite\u001b[0m\u001b[1;33m(\u001b[0m\u001b[0mtflite_model\u001b[0m\u001b[1;33m)\u001b[0m\u001b[1;33m\u001b[0m\u001b[1;33m\u001b[0m\u001b[0m\n",
      "\u001b[1;31mValueError\u001b[0m: invalid mode: 'ws'"
     ]
    }
   ],
   "source": [
    "converter = tf.lite.TFLiteConverter.from_saved_model(saved_model)\n",
    "tflite_model = converter.convert()\n",
    "\n",
    "with open('model.tflite', 'wb') as f:\n",
    "    f.write(tflite_model)"
   ]
  },
  {
   "cell_type": "code",
   "execution_count": 19,
   "metadata": {},
   "outputs": [
    {
     "name": "stdout",
     "output_type": "stream",
     "text": [
      "Found 200 images belonging to 11 classes.\n"
     ]
    }
   ],
   "source": [
    "test_datagen = ImageDataGenerator(rescale = 1./255)\n",
    "test_generator = test_datagen.flow_from_directory(\n",
    "    test_dir,\n",
    "    target_size=(150,150),\n",
    "    class_mode='categorical',\n",
    "    batch_size=20\n",
    ")"
   ]
  },
  {
   "cell_type": "code",
   "execution_count": 30,
   "metadata": {},
   "outputs": [
    {
     "name": "stdout",
     "output_type": "stream",
     "text": [
      "10/10 [==============================] - 3s 235ms/step - loss: 1.4968 - accuracy: 0.5850\n"
     ]
    }
   ],
   "source": [
    "results = model.evaluate(test_generator)"
   ]
  },
  {
   "cell_type": "code",
   "execution_count": 45,
   "metadata": {},
   "outputs": [
    {
     "name": "stdout",
     "output_type": "stream",
     "text": [
      "test loss, test acc: [1.5188572406768799, 0.5400000214576721]\n"
     ]
    }
   ],
   "source": [
    "print('test loss, test acc:', results)"
   ]
  },
  {
   "cell_type": "code",
   "execution_count": 10,
   "metadata": {
    "id": "g1fh2xcu2WNE"
   },
   "outputs": [],
   "source": [
    "#Training\n",
    "train_kue_dadar_gulung_dir = os.path.join(train_dir, 'kue_dadar_gulung')\n",
    "train_kue_kastengel_dir = os.path.join(train_dir, 'kue_kastengel')\n",
    "train_kue_klepon_dir = os.path.join(train_dir, 'kue_klepon')\n",
    "train_kue_lapis_dir = os.path.join(train_dir, 'kue_lapis')\n",
    "train_kue_lumpur_dir = os.path.join(train_dir, 'kue_lumpur')\n",
    "train_kue_putri_salju_dir = os.path.join(train_dir, 'kue_putri_salju')\n",
    "train_kue_risoles_dir = os.path.join(train_dir, 'kue_risoles')\n",
    "train_kue_serabi_dir = os.path.join(train_dir, 'kue_serabi')\n",
    "train_bakso_dir = os.path.join(train_dir, 'bakso')\n",
    "train_gudeg_dir = os.path.join(train_dir, 'gudeg')\n",
    "train_sate_dir = os.path.join(train_dir, 'sate')\n",
    "train_gado_dir = os.path.join(train_dir, 'gado')\n",
    "train_rendang_dir = os.path.join(train_dir, 'rendang')\n",
    "\n",
    "#Validation\n",
    "validation_kue_dadar_gulung_dir = os.path.join(validation_dir, 'kue_dadar_gulung')\n",
    "validation_kue_kastengel_dir = os.path.join(validation_dir, 'kue_kastengel')\n",
    "validation_kue_klepon_dir = os.path.join(validation_dir, 'kue_klepon')\n",
    "validation_kue_lapis_dir = os.path.join(validation_dir, 'kue_lapis')\n",
    "validation_kue_lumpur_dir = os.path.join(validation_dir, 'kue_lumpur')\n",
    "validation_kue_putri_salju_dir = os.path.join(validation_dir, 'kue_putri_salju')\n",
    "validation_kue_risoles_dir = os.path.join(validation_dir, 'kue_risoles')\n",
    "validation_kue_serabi_dir = os.path.join(validation_dir, 'kue_serabi')"
   ]
  },
  {
   "cell_type": "code",
   "execution_count": 11,
   "metadata": {
    "colab": {
     "base_uri": "https://localhost:8080/"
    },
    "id": "tb0VmRQr2XNu",
    "outputId": "4bca83de-8a5b-450c-d2d3-b27a033d564e"
   },
   "outputs": [
    {
     "name": "stdout",
     "output_type": "stream",
     "text": [
      "total training kue lumpur images : 160\n",
      "total training kue lumpur images : 160\n",
      "total training kue lumpur images : 160\n",
      "total training kue lumpur images : 160\n",
      "total training kue lumpur images : 160\n",
      "total training kue lumpur images : 160\n",
      "total training kue lumpur images : 160\n",
      "total training kue lumpur images : 160\n",
      "total training bakso images : 160\n",
      "total training kue lumpur images : 160\n",
      "total training kue lumpur images : 160\n",
      "total training kue lumpur images : 160\n",
      "total training kue lumpur images : 160\n",
      "total training kue lumpur images : 20\n",
      "total training kue lumpur images : 20\n",
      "total training kue lumpur images : 20\n",
      "total training kue lumpur images : 20\n",
      "total training kue lumpur images : 20\n",
      "total training kue lumpur images : 20\n",
      "total training kue lumpur images : 20\n",
      "total training kue lumpur images : 20\n"
     ]
    }
   ],
   "source": [
    "print('total training kue lumpur images :', len(os.listdir(train_kue_dadar_gulung_dir) ))\n",
    "print('total training kue lumpur images :', len(os.listdir(train_kue_kastengel_dir) ))\n",
    "print('total training kue lumpur images :', len(os.listdir(train_kue_klepon_dir) ))\n",
    "print('total training kue lumpur images :', len(os.listdir(train_kue_lapis_dir) ))\n",
    "print('total training kue lumpur images :', len(os.listdir(train_kue_lumpur_dir) ))\n",
    "print('total training kue lumpur images :', len(os.listdir(train_kue_putri_salju_dir) ))\n",
    "print('total training kue lumpur images :', len(os.listdir(train_kue_risoles_dir) ))\n",
    "print('total training kue lumpur images :', len(os.listdir(train_kue_serabi_dir) ))\n",
    "print('total training bakso images :', len(os.listdir(train_bakso_dir) ))\n",
    "print('total training kue lumpur images :', len(os.listdir(train_gudeg_dir) ))\n",
    "print('total training kue lumpur images :', len(os.listdir(train_sate_dir) ))\n",
    "print('total training kue lumpur images :', len(os.listdir(train_gado_dir) ))\n",
    "print('total training kue lumpur images :', len(os.listdir(train_rendang_dir) ))\n",
    "\n",
    "print('total training kue lumpur images :', len(os.listdir(validation_kue_dadar_gulung_dir) ))\n",
    "print('total training kue lumpur images :', len(os.listdir(validation_kue_kastengel_dir) ))\n",
    "print('total training kue lumpur images :', len(os.listdir(validation_kue_klepon_dir) ))\n",
    "print('total training kue lumpur images :', len(os.listdir(validation_kue_lapis_dir) ))\n",
    "print('total training kue lumpur images :', len(os.listdir(validation_kue_lumpur_dir) ))\n",
    "print('total training kue lumpur images :', len(os.listdir(validation_kue_putri_salju_dir) ))\n",
    "print('total training kue lumpur images :', len(os.listdir(validation_kue_risoles_dir) ))\n",
    "print('total training kue lumpur images :', len(os.listdir(validation_kue_serabi_dir) ))"
   ]
  },
  {
   "cell_type": "code",
   "execution_count": 35,
   "metadata": {
    "colab": {
     "base_uri": "https://localhost:8080/"
    },
    "id": "7yoRIArRwkC9",
    "outputId": "4884b602-4341-4a96-f373-c12bb2f98188"
   },
   "outputs": [
    {
     "name": "stdout",
     "output_type": "stream",
     "text": [
      "Model: \"vgg16\"\n",
      "_________________________________________________________________\n",
      " Layer (type)                Output Shape              Param #   \n",
      "=================================================================\n",
      " input_2 (InputLayer)        [(None, 224, 224, 3)]     0         \n",
      "                                                                 \n",
      " block1_conv1 (Conv2D)       (None, 224, 224, 64)      1792      \n",
      "                                                                 \n",
      " block1_conv2 (Conv2D)       (None, 224, 224, 64)      36928     \n",
      "                                                                 \n",
      " block1_pool (MaxPooling2D)  (None, 112, 112, 64)      0         \n",
      "                                                                 \n",
      " block2_conv1 (Conv2D)       (None, 112, 112, 128)     73856     \n",
      "                                                                 \n",
      " block2_conv2 (Conv2D)       (None, 112, 112, 128)     147584    \n",
      "                                                                 \n",
      " block2_pool (MaxPooling2D)  (None, 56, 56, 128)       0         \n",
      "                                                                 \n",
      " block3_conv1 (Conv2D)       (None, 56, 56, 256)       295168    \n",
      "                                                                 \n",
      " block3_conv2 (Conv2D)       (None, 56, 56, 256)       590080    \n",
      "                                                                 \n",
      " block3_conv3 (Conv2D)       (None, 56, 56, 256)       590080    \n",
      "                                                                 \n",
      " block3_pool (MaxPooling2D)  (None, 28, 28, 256)       0         \n",
      "                                                                 \n",
      " block4_conv1 (Conv2D)       (None, 28, 28, 512)       1180160   \n",
      "                                                                 \n",
      " block4_conv2 (Conv2D)       (None, 28, 28, 512)       2359808   \n",
      "                                                                 \n",
      " block4_conv3 (Conv2D)       (None, 28, 28, 512)       2359808   \n",
      "                                                                 \n",
      " block4_pool (MaxPooling2D)  (None, 14, 14, 512)       0         \n",
      "                                                                 \n",
      " block5_conv1 (Conv2D)       (None, 14, 14, 512)       2359808   \n",
      "                                                                 \n",
      " block5_conv2 (Conv2D)       (None, 14, 14, 512)       2359808   \n",
      "                                                                 \n",
      " block5_conv3 (Conv2D)       (None, 14, 14, 512)       2359808   \n",
      "                                                                 \n",
      " block5_pool (MaxPooling2D)  (None, 7, 7, 512)         0         \n",
      "                                                                 \n",
      " flatten (Flatten)           (None, 25088)             0         \n",
      "                                                                 \n",
      " fc1 (Dense)                 (None, 4096)              102764544 \n",
      "                                                                 \n",
      " fc2 (Dense)                 (None, 4096)              16781312  \n",
      "                                                                 \n",
      " predictions (Dense)         (None, 1000)              4097000   \n",
      "                                                                 \n",
      "=================================================================\n",
      "Total params: 138,357,544\n",
      "Trainable params: 138,357,544\n",
      "Non-trainable params: 0\n",
      "_________________________________________________________________\n"
     ]
    }
   ],
   "source": [
    "#Transfer Learning\n",
    "from keras.applications.vgg16 import VGG16\n",
    "model = VGG16()\n",
    "model.summary()"
   ]
  },
  {
   "cell_type": "code",
   "execution_count": null,
   "metadata": {},
   "outputs": [],
   "source": []
  }
 ],
 "metadata": {
  "colab": {
   "collapsed_sections": [],
   "name": "Food.ipynb",
   "provenance": []
  },
  "kernelspec": {
   "display_name": "Python 3 (ipykernel)",
   "language": "python",
   "name": "python3"
  },
  "language_info": {
   "codemirror_mode": {
    "name": "ipython",
    "version": 3
   },
   "file_extension": ".py",
   "mimetype": "text/x-python",
   "name": "python",
   "nbconvert_exporter": "python",
   "pygments_lexer": "ipython3",
   "version": "3.9.7"
  }
 },
 "nbformat": 4,
 "nbformat_minor": 1
}
